{
 "cells": [
  {
   "cell_type": "markdown",
   "id": "8eb06a2e-7276-4c62-8e9a-713be639d915",
   "metadata": {},
   "source": [
    "This program was developed for the master's thesis “Agent-based modelling of embryonic organoid development” (Víctor Villegas-Morral, 2024) using [CellBasedModels.jl](https://github.com/dsb-lab/CellBasedModels.jl).\n",
    "\n",
    "The report and the rest of the code can be found on the [Multiscale Physics of Living Systems Group’s GitHub](https://github.com/MPoLS-lab) and on [my personal GitHub](https://github.com/villegas-morral/masters-thesis)."
   ]
  },
  {
   "cell_type": "code",
   "execution_count": 1,
   "id": "e277fc64-3036-469b-8620-1655c07ca3eb",
   "metadata": {},
   "outputs": [],
   "source": [
    "using DifferentialEquations\n",
    "using CellBasedModels\n",
    "using Distributions\n",
    "using Random\n",
    "using GLMakie\n",
    "using MathTeXEngine\n",
    "using Printf\n",
    "using Dates\n",
    "using Glob\n",
    "\n",
    "Makie.inline!(true);\n",
    "Makie.update_theme!(fonts = (regular = texfont(), bold = texfont(:bold), italic = texfont(:italic)))"
   ]
  }
 ],
 "metadata": {
  "kernelspec": {
   "display_name": "Julia 1.9.4",
   "language": "julia",
   "name": "julia-1.9"
  },
  "language_info": {
   "file_extension": ".jl",
   "mimetype": "application/julia",
   "name": "julia",
   "version": "1.9.4"
  }
 },
 "nbformat": 4,
 "nbformat_minor": 5
}

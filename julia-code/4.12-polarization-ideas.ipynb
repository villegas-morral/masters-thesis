{
 "cells": [
  {
   "cell_type": "markdown",
   "id": "2b49f2c9-782e-4c60-a270-8605ef014844",
   "metadata": {},
   "source": [
    "# Program 4.12: Unrealized ideas for measuring polarization"
   ]
  },
  {
   "cell_type": "markdown",
   "id": "566b9121-c291-4786-8857-3fe57763fd19",
   "metadata": {},
   "source": [
    "This program was developed for the master's thesis “Agent-based modelling of embryonic organoid development” (Víctor Villegas-Morral, 2024) using [CellBasedModels.jl](https://github.com/dsb-lab/CellBasedModels.jl).\n",
    "\n",
    "The report and the rest of the code can be found on the [Multiscale Physics of Living Systems Group’s GitHub](https://github.com/MPoLS-lab) and on [my personal GitHub](https://github.com/villegas-morral/masters-thesis)."
   ]
  },
  {
   "cell_type": "markdown",
   "id": "aa9adfe7-3595-47c9-bced-cb1d1701ed08",
   "metadata": {},
   "source": [
    "### Initialization"
   ]
  },
  {
   "cell_type": "code",
   "execution_count": null,
   "id": "2820a225-59a0-4c66-bc83-46d1f86dcf33",
   "metadata": {},
   "outputs": [],
   "source": [
    "parameters = define_par();\n",
    "\n",
    "dt = 0.002;\n",
    "save_each = round(Int64, 0.25 / dt);\n",
    "n_cells = 300;"
   ]
  },
  {
   "cell_type": "markdown",
   "id": "b297a6be-fc74-467e-904a-3775ccf78ef6",
   "metadata": {},
   "source": [
    "### Aggregate"
   ]
  },
  {
   "cell_type": "code",
   "execution_count": null,
   "id": "93c91519-d758-4b62-aa81-f1fb9c938271",
   "metadata": {},
   "outputs": [],
   "source": [
    "Random.seed!(2345)\n",
    "com = initialize_growth(parameters; dt);"
   ]
  },
  {
   "cell_type": "code",
   "execution_count": null,
   "id": "e2fa469a-8708-40dc-9877-aa46e8b5402d",
   "metadata": {},
   "outputs": [],
   "source": [
    "grow_size!(com, save_each, n_cells)\n",
    "# grow_time!(com,save_each,30)\n",
    "m0 = length(com);"
   ]
  },
  {
   "cell_type": "code",
   "execution_count": null,
   "id": "3030d04f-1d28-4b57-92bc-b8e59047c339",
   "metadata": {},
   "outputs": [],
   "source": [
    "println(com.N)\n",
    "println(formed_correctly(com))\n",
    "plot_aggregate(com, color_map, 1, m0)"
   ]
  },
  {
   "cell_type": "code",
   "execution_count": null,
   "id": "e4b5d9b6-fcb6-471c-86f1-707623e61835",
   "metadata": {},
   "outputs": [],
   "source": [
    "# mechanics_evolve!(com, save_each, 30)\n",
    "# m0 = length(com);"
   ]
  },
  {
   "cell_type": "code",
   "execution_count": null,
   "id": "c95e1fe6-2bda-40ea-9f5e-098e4b4ecf81",
   "metadata": {},
   "outputs": [],
   "source": [
    "growncom = deepcopy(com);"
   ]
  },
  {
   "cell_type": "markdown",
   "id": "48d8bf67-9aa0-4ad0-b617-3812d3e8cbf1",
   "metadata": {},
   "source": [
    "Let $ S_B $ represent the set of indices of cells in state **B**."
   ]
  },
  {
   "cell_type": "markdown",
   "id": "e58af0e1-5baf-4c21-8ab0-c2be82e38d06",
   "metadata": {
    "jp-MarkdownHeadingCollapsed": true
   },
   "source": [
    "### 1.1 Define a distance-based metric\n",
    "\n",
    "To determine whether the cells are evenly distributed or clustered, you can compute a function based on the pairwise distances between the cells in state B."
   ]
  },
  {
   "cell_type": "markdown",
   "id": "f2908fcc-95e7-4df4-ab71-f1e01631825e",
   "metadata": {},
   "source": [
    "1. **Mean pairwise distance**:\n",
    "   $$\\text{Mean Distance} = \\frac{2}{|S_B|(|S_B| - 1)} \\sum_{\\substack{i, j \\in S_B \\\\ i \\neq j}} \\| x_i - x_j \\|$$\n",
    "   - This computes the average distance between all pairs of cells in state B. Higher values suggest a more even distribution, while lower values indicate clustering."
   ]
  },
  {
   "cell_type": "code",
   "execution_count": null,
   "id": "720a0ab0-a7f4-4611-89fb-fe58c7fea89e",
   "metadata": {},
   "outputs": [],
   "source": [
    "function mean_dist(com, tstamp)\n",
    "\tx = com[tstamp].x\n",
    "\ty = com[tstamp].y\n",
    "\tz = com[tstamp].z\n",
    "\tN = com[tstamp].N\n",
    "\n",
    "\tmdist = 0\n",
    "\tfor i in 1:N\n",
    "\t\tfor j in i+1:N\n",
    "\t\t\tmdist += CBMMetrics.euclidean(x[i], x[j], y[i], y[j], z[i], z[j])\n",
    "\t\tend\n",
    "\tend\n",
    "\tmdist /= (N * (N - 1) / 2)\n",
    "\n",
    "end;\n"
   ]
  },
  {
   "cell_type": "code",
   "execution_count": null,
   "id": "5e6a29af-cfe1-4bcf-bce3-befa771ed032",
   "metadata": {},
   "outputs": [],
   "source": [
    "function mean_dist_state(com, tstamp, state)\n",
    "\n",
    "\tx = com[tstamp].x\n",
    "\ty = com[tstamp].y\n",
    "\tz = com[tstamp].z\n",
    "\tN = com[tstamp].N\n",
    "\n",
    "\tbcells = [i for i in 1:com[tstamp].N if com[tstamp].cell_state[i] == state]\n",
    "\tn_bcells = length(bcells)\n",
    "\tmdist = 0\n",
    "\tfor i in bcells\n",
    "\t\tfor j in bcells\n",
    "\t\t\tif i < j  # Avoid duplicate pairs and self-comparison\n",
    "\t\t\t\tmdist += CBMMetrics.euclidean(x[i], y[i], z[i], x[j], y[j], z[j])\n",
    "\t\t\tend\n",
    "\t\tend\n",
    "\tend\n",
    "\tmdist /= (n_bcells * (n_bcells - 1) / 2)\n",
    "\n",
    "end;\n"
   ]
  },
  {
   "cell_type": "markdown",
   "id": "0238129e-50b6-4335-a170-12455d3129a5",
   "metadata": {},
   "source": [
    "2. **Variance of pairwise distances**:\n",
    "   $$\\text{Variance of Distances} = \\frac{2}{|S_B|(|S_B| - 1)} \\sum_{\\substack{i, j \\in S_B \\\\ i \\neq j}} \\left( \\| x_i - x_j \\| - \\mu \\right)^2$$\n",
    "   where $ \\mu $ is the mean pairwise distance. A **low variance** suggests that the cells are evenly distributed, while a **high variance** indicates that the cells are either clustered or unevenly spread."
   ]
  },
  {
   "cell_type": "code",
   "execution_count": null,
   "id": "fd114c71-364b-458b-a293-2c7877b4200e",
   "metadata": {},
   "outputs": [],
   "source": [
    "function mean_dist_state_var(com, tstamp, state)\n",
    "\t# tstamp = 150\n",
    "\t# state = 2\n",
    "\n",
    "\tx = com[tstamp].x\n",
    "\ty = com[tstamp].y\n",
    "\tz = com[tstamp].z\n",
    "\tN = com[tstamp].N\n",
    "\tmean = mean_dist(com, tstamp, state)\n",
    "\n",
    "\tbcells = [i for i in 1:com[tstamp].N if com[tstamp].cell_state[i] == state]\n",
    "\tn_bcells = length(bcells)\n",
    "\tvar = 0\n",
    "\tfor i in bcells\n",
    "\t\tfor j in bcells\n",
    "\t\t\tif i < j  # Avoid duplicate pairs and self-comparison\n",
    "\t\t\t\tvar += (CBMMetrics.euclidean(x[i], y[i], z[i], x[j], y[j], z[j])\n",
    "\t\t\t\t\t\t-\n",
    "\t\t\t\t\t\tmean)^2\n",
    "\t\t\tend\n",
    "\t\tend\n",
    "\tend\n",
    "\tvar /= (n_bcells * (n_bcells - 1) / 2)\n",
    "end\n",
    "mean_dist_state_var(com, 129, 2)\n"
   ]
  },
  {
   "cell_type": "markdown",
   "id": "f0157a36-fa1f-474e-9a7f-8fe8b45126ce",
   "metadata": {},
   "source": [
    "### 1.2 Normalization and Final Function\n",
    "\n",
    "To scale the function for different aggregates, you might want to normalize the distances by the size of the aggregate. For example, you can normalize by the average distance between the cells and the center of mass $ \\text{cm} $.\n",
    "\n",
    "$$d_{\\text{avg}} = \\frac{1}{|S_B|} \\sum_{i \\in S_B} \\| x_i - \\text{cm} \\|$$\n",
    "\n",
    "Then, a normalized measure of clustering can be:\n",
    "\n",
    "$$F_B = \\frac{\\text{Mean Distance}}{d_{\\text{avg}}}$$\n",
    "\n",
    "- **If $ F_B $ is close to 1**, it indicates that the cells in state B are evenly distributed.\n",
    "- **If $ F_B $ is much less than 1**, it suggests clustering."
   ]
  },
  {
   "cell_type": "code",
   "execution_count": null,
   "id": "281dae79-b747-46f7-b55b-b2489f69fd7c",
   "metadata": {},
   "outputs": [],
   "source": [
    "function cm_dist(com, tstamp)\n",
    "\tN = com[tstamp].N\n",
    "\tx = com[tstamp].x\n",
    "\ty = com[tstamp].y\n",
    "\tz = com[tstamp].z\n",
    "\n",
    "\tcm = [sum(x), sum(y), sum(z)] ./ N\n",
    "\n",
    "\td_avg = 0\n",
    "\tfor i in 1:N\n",
    "\t\td_avg += CBMMetrics.euclidean(x[i], cm[1], y[i], cm[2], z[i], cm[3])\n",
    "\tend\n",
    "\td_avg /= N\n",
    "end;\n"
   ]
  },
  {
   "cell_type": "code",
   "execution_count": null,
   "id": "7e9cb4f6-621a-485d-8858-48bd7784c589",
   "metadata": {},
   "outputs": [],
   "source": [
    "function cm_dist_state(com, tstamp)\n",
    "end;"
   ]
  },
  {
   "cell_type": "markdown",
   "id": "e4124ecb-359f-4dd9-9bd9-980e3f66e0b1",
   "metadata": {},
   "source": [
    "### 2. Alternative measure"
   ]
  },
  {
   "cell_type": "markdown",
   "id": "2ebd29af-c6c4-47a4-a9d9-2484aec08e2f",
   "metadata": {},
   "source": [
    "Another option is to compute the following norm\n",
    "\n",
    "$$ ||p(t)|| = ||\\frac{1}{N_B}\\sum_{i \\in S_B}(x_i - x_c)|| $$"
   ]
  },
  {
   "cell_type": "code",
   "execution_count": null,
   "id": "d29b5170-e901-46e5-a3ae-220e7059b185",
   "metadata": {},
   "outputs": [],
   "source": [
    "function pol_measure(com, tstamp)\n",
    "\tN = com[tstamp].N\n",
    "\tx = com[tstamp].x\n",
    "\ty = com[tstamp].y\n",
    "\tz = com[tstamp].z\n",
    "\txyz = collect(zip(x, y, z))\n",
    "\n",
    "\tcm = [sum(x), sum(y), sum(z)] ./ N\n",
    "\n",
    "\tpol_vec = Array{Float64}(undef, 3)\n",
    "\tfor i in 1:N\n",
    "\t\tpol_vec .+= xyz[i] .- cm\n",
    "\tend\n",
    "\tcmdist = sqrt(pol_vec[1]^2 + pol_vec[2]^2 + pol_vec[3]^2) / N\n",
    "\treturn cmdist\n",
    "end;\n"
   ]
  },
  {
   "cell_type": "code",
   "execution_count": null,
   "id": "547d08fe-bdf6-4a62-9248-518a9b7cb2bb",
   "metadata": {},
   "outputs": [],
   "source": [
    "tstamp = 129\n",
    "state = 2\n",
    "function pol_measure_state(com, tstamp, state)\n",
    "\tN = com[tstamp].N\n",
    "\tx = com[tstamp].x\n",
    "\ty = com[tstamp].y\n",
    "\tz = com[tstamp].z\n",
    "\txyz = collect(zip(x, y, z))\n",
    "\n",
    "\tcm = [sum(x), sum(y), sum(z)] ./ N\n",
    "\tbcells = [i for i in 1:com[tstamp].N if com[tstamp].cell_state[i] == state]\n",
    "\tnbcells = length(bcells)\n",
    "\n",
    "\tpol_vec = Array{Float64}(undef, 3)\n",
    "\tfor i in bcells\n",
    "\t\tpol_vec .+= xyz[i] .- cm\n",
    "\tend\n",
    "\tcmdist = sqrt(pol_vec[1]^2 + pol_vec[2]^2 + pol_vec[3]^2) / nbcells\n",
    "\treturn cmdist\n",
    "end\n",
    "pol_measure_state(com, 150, 2)\n"
   ]
  },
  {
   "cell_type": "markdown",
   "id": "dfdd3477-fb34-4d33-84ec-4088257f4694",
   "metadata": {},
   "source": [
    "### Alternative: Nearest Neighbor Distance"
   ]
  },
  {
   "cell_type": "markdown",
   "id": "abf705be-cf03-438c-83aa-0917eb3d39ed",
   "metadata": {
    "jp-MarkdownHeadingCollapsed": true
   },
   "source": [
    "\n",
    "Another simple approach is to use **nearest-neighbor distance**:\n",
    "\n",
    "$$\\text{Nearest Neighbor Distance} = \\frac{1}{|S_B|} \\sum_{i \\in S_B} \\min_{\\substack{j \\in S_B \\\\ j \\neq i}} \\| x_i - x_j \\|$$\n",
    "\n",
    "This value tends to be smaller when cells are clustered and larger when they are evenly distributed."
   ]
  }
 ],
 "metadata": {
  "kernelspec": {
   "display_name": "Julia 1.9.4",
   "language": "julia",
   "name": "julia-1.9"
  },
  "language_info": {
   "file_extension": ".jl",
   "mimetype": "application/julia",
   "name": "julia",
   "version": "1.9.4"
  }
 },
 "nbformat": 4,
 "nbformat_minor": 5
}
